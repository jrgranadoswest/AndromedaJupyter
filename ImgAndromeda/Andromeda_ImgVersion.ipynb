{
 "cells": [
  {
   "cell_type": "markdown",
   "metadata": {},
   "source": [
    "# Andromeda with Image Data in Jupyter \n",
    "\n",
    "\n",
    "### Pre-trained Deep Learning Model for Feature Extraction\n",
    "**ResNet18 Feature Extractor** extracts features from images at the last convolutional layer, apply average pooling on each feature map, then we got 512 features for each image.\n",
    "\n",
    "\n",
    "### Interactive Inverse Dimension Reduction \n",
    "\n",
    "This notebook implements interactive dimension reduction (DR) for exploratory analysis of high-dimensional data.\n",
    "It uses a Multi-Dimensional Scaling (MDS) algorithm with a weighted distance metric. It enables both forward and inverse DR interaction. \n",
    "\n",
    "**MDS** projects high-dimensional data to a 2D scatterplot. A **weighted distance function** with user-specified weights on each dimension enables alternative projections that emphasize different dimensions. An **Inverse-DR** algorithm learns distance function weights for  user-constructed layouts of the data points.\n",
    "\n",
    "\n",
    "### CNN Feature Interpretability  \n",
    "\n",
    "We use **Visual Back Propagation** method to back propagate each feature map, then apply the learned weights from Inverse DR model to the back propogated feature maps, add the final maps together to get the final attention.\n",
    "\n",
    "\n",
    "### Instructions:\n",
    "\n",
    "1. Change the variable name of the first file **ImgFolder** to your own image folder path\n",
    "1. Click \"Kernel\" in the menu bar --> then click \"Restart Kernel and Run All\"\n",
    "1. Proceed to the interactive plots near the bottom\n",
    "1. There are three kinds of interactions:\n",
    "    1. **Projection interaction:** Drag images in the projection plot to form user-defined clusters, then click Learn to see learned weights, and click Copy to see the updated projection plot.\n",
    "    1. **Print Activation Map:** Click the \"Print features\" button at the bottom of the notebook to see which part of the original image is focused by the underlying model to form user-defined image groups.\n",
    "1. Be patient, its interactive matplotlib in python and Jupyter!\n",
    "\n",
    "\n",
    "Based on: \n",
    "1. *Self JZ, Dowling M, Wenskovitch J, Crandell I, Wang M, House L, Leman S, North C. Observation-Level and Parametric Interaction for High-Dimensional Data Analysis. ACM Transactions on Interactive Intelligent Systems.  8(2), 2018.* https://infovis.cs.vt.edu/sites/default/files/observation-level-parametric_first_look_version.pdf\n",
    "2. *Mariusz Bojarski, Anna Choromanska, Krzysztof Choromanski, Bernhard Firner, Larry Jackel, Urs Muller, Karol Zieba. VisualBackProp: efficient visualization of CNNs.* https://arxiv.org/abs/1611.05418v3\n",
    "\n"
   ]
  },
  {
   "cell_type": "code",
   "execution_count": 8,
   "metadata": {},
   "outputs": [],
   "source": [
    "%matplotlib notebook\n",
    "\n",
    "### interactive notebook format is required for the interactive plot\n",
    "\n",
    "import numpy as np\n",
    "import pandas as pd\n",
    "import math\n",
    "import random\n",
    "import os\n",
    "import cv2\n",
    "from skimage.transform import resize\n",
    "import csv\n",
    "from tqdm import tqdm\n",
    "\n",
    "from os import listdir\n",
    "from os.path import isfile, join\n",
    "from math import isnan\n",
    "\n",
    "from sklearn.decomposition import PCA\n",
    "from sklearn.manifold import MDS\n",
    "import sklearn.metrics.pairwise\n",
    "\n",
    "import matplotlib as mpl\n",
    "import matplotlib.pyplot as plt\n",
    "from matplotlib.offsetbox import OffsetImage, AnnotationBbox\n",
    "from matplotlib.patches import FancyBboxPatch\n",
    "from functools import partial\n",
    "import ipywidgets as widgets\n",
    "from ipywidgets import interact, Layout, Button, GridBox, ButtonStyle\n",
    "from IPython.display import display, clear_output, Image\n",
    "\n",
    "from ipywidgets import interact\n",
    "import ipyplot\n",
    "\n",
    "from matplotlib.widgets import Slider, Button\n",
    "\n",
    "from torchvision import datasets\n",
    "from torchvision.transforms import ToTensor\n",
    "from sklearn.metrics import silhouette_score"
   ]
  },
  {
   "cell_type": "markdown",
   "metadata": {},
   "source": [
    "# Load and Pre-process Data\n",
    "\n",
    "Change the **filename** to load a dataset.  CSV data file is expected to have a first column 'Name' that is used as the index, and header row of column names.  Numeric columns are used for projection."
   ]
  },
  {
   "cell_type": "markdown",
   "metadata": {},
   "source": [
    "The image folder structure should be arranged in standard pytorch data loading format i.e: <br>\n",
    "* root/dog/xxx.png\n",
    "* root/dog/xxy.png\n",
    "* root/dog/xxz.png\n",
    "\n",
    "\n",
    "* root/cat/123.png\n",
    "* root/cat/nsdf3.png\n",
    "* root/cat/asd932_.png"
   ]
  },
  {
   "cell_type": "code",
   "execution_count": 9,
   "metadata": {},
   "outputs": [],
   "source": [
    "# imgFolder = '/users/huiminhan/Desktop/InfoVis/Datasets/Preliminary_fish_dataset/train_val/' #the fish dataset\n",
    "\n",
    "imgFolder = '/users/huiminhan/Desktop/InfoVis/Datasets/pods/3cat/' #the pods dataset\n",
    "# imgFolder = '/users/huiminhan/Desktop/InfoVis/Datasets/animal_sample/'\n",
    "# imgFolder = '/users/huiminhan/Desktop/InfoVis/Datasets/animal_full/'\n",
    "sampleSizePerCat = 100 #sample size for each image category subfolder\n",
    "imgDisplaySize =0.2  #default value for image display size, can be interactively adjusted in the UI\n",
    "total_img = 300 # maximun total number of images to display on the UI\n",
    "folderName = True #whether the imgFolder has subfolder for each category. e.g. the fish dataset\n",
    "load_weights_from_file = False"
   ]
  },
  {
   "cell_type": "code",
   "execution_count": 10,
   "metadata": {},
   "outputs": [],
   "source": [
    "%run VisualBackProp.py"
   ]
  },
  {
   "cell_type": "code",
   "execution_count": 11,
   "metadata": {},
   "outputs": [],
   "source": [
    "def get_path(imgFolder,sampleSizePerCat,folderName=False, max_img_num=50):\n",
    "    paths = []\n",
    "    totalImg = 0\n",
    "    for (dirpath, dirnames, filenames) in os.walk(imgFolder):\n",
    "        sampleCount = 0\n",
    "        for filename in filenames:\n",
    "            if filename.lower().endswith('jpg') or filename.lower().endswith('jpeg') or filename.lower().endswith('png'):\n",
    "                paths.append(dirpath+'/'+filename)\n",
    "                sampleCount += 1\n",
    "                totalImg += 1\n",
    "            if sampleCount == sampleSizePerCat or totalImg == max_img_num:\n",
    "                break\n",
    "        if totalImg == max_img_num:\n",
    "            break\n",
    "    imageNames = {}    \n",
    "    for path in paths:\n",
    "        if folderName:\n",
    "            imageNames[path.split('/')[-2]+'/'+path.split('/')[-1].split('.')[-2]] = path\n",
    "        else:\n",
    "            imageNames[path.split('/')[-1].split('.')[-2]] = path\n",
    "    return imageNames,paths\n",
    "\n",
    "def data_loader(imgFolder,sampleSizePerCat, folderName=False, max_img_num=50):\n",
    "    imageNames, paths = get_path(imgFolder,sampleSizePerCat, folderName,max_img_num)\n",
    "    ds = FilenameDataset(paths, transform)\n",
    "    loader = DataLoader(ds)\n",
    "    model = resnet18(pretrained=True).eval()\n",
    "    model_vis = ResnetVisualizer(model.eval(),weight_list=torch.ones([512]))\n",
    "    features=[]\n",
    "    index = []\n",
    "    for i, img in zip(range(len(loader)), loader):\n",
    "        with torch.no_grad():\n",
    "            x, vis, target_feature_map = model_vis(img)\n",
    "            features.append(x)\n",
    "        if folderName:\n",
    "            index = [i.split('/')[-2]+'/'+i.split('/')[-1].split('.')[-2] for i in paths]\n",
    "        else:\n",
    "            index = [i.split('/')[-1].split('.')[-2] for i in paths]\n",
    "\n",
    "    df = pd.DataFrame(features,columns = [str(i) for i in range(1,513)],index = index)\n",
    "    df.index.name = 'Image'\n",
    "    return df,imageNames,paths"
   ]
  },
  {
   "cell_type": "code",
   "execution_count": 12,
   "metadata": {},
   "outputs": [],
   "source": [
    "df,imageNames,paths = data_loader(imgFolder,sampleSizePerCat,folderName=True,max_img_num = total_img)"
   ]
  },
  {
   "cell_type": "code",
   "execution_count": 13,
   "metadata": {},
   "outputs": [
    {
     "name": "stdout",
     "output_type": "stream",
     "text": [
      "Data size (r,c) = (0, 0)\n"
     ]
    },
    {
     "data": {
      "text/html": [
       "<div>\n",
       "<style scoped>\n",
       "    .dataframe tbody tr th:only-of-type {\n",
       "        vertical-align: middle;\n",
       "    }\n",
       "\n",
       "    .dataframe tbody tr th {\n",
       "        vertical-align: top;\n",
       "    }\n",
       "\n",
       "    .dataframe thead th {\n",
       "        text-align: right;\n",
       "    }\n",
       "</style>\n",
       "<table border=\"1\" class=\"dataframe\">\n",
       "  <thead>\n",
       "    <tr style=\"text-align: right;\">\n",
       "      <th></th>\n",
       "    </tr>\n",
       "    <tr>\n",
       "      <th>Image</th>\n",
       "    </tr>\n",
       "  </thead>\n",
       "  <tbody>\n",
       "  </tbody>\n",
       "</table>\n",
       "</div>"
      ],
      "text/plain": [
       "Empty DataFrame\n",
       "Columns: []\n",
       "Index: []"
      ]
     },
     "execution_count": 13,
     "metadata": {},
     "output_type": "execute_result"
    }
   ],
   "source": [
    "### Use 'Name' column as index\n",
    "# df.rename(columns={df.columns[0]:'Name'}, inplace=True)\n",
    "# df.set_index('Image', inplace=True)\n",
    "\n",
    "### Sort rows and columns\n",
    "# df.sort_index(axis=1, inplace=True)\n",
    "df.sort_index(inplace=True)\n",
    "\n",
    "df_numeric = df.select_dtypes(include='number')  #'int32' or 'int64' or 'float32' or 'float64'\n",
    "df_category = df.select_dtypes(exclude='number') #'object'\n",
    "\n",
    "\n",
    "\n",
    "### Z-score normalization\n",
    "#normalized_df = (df_numeric - df_numeric.mean()) / df_numeric.std()\n",
    "normalized_df = df_numeric.drop_duplicates()  # do not normalize animal dataset, all columns are 0-100 scale\n",
    "\n",
    "print('Data size (r,c) =', df_numeric.shape)\n",
    "df_numeric.head()"
   ]
  },
  {
   "cell_type": "markdown",
   "metadata": {},
   "source": [
    "#  Dimension Reduction Model:  Weighted MDS\n",
    "\n",
    "For DR, we use the Multi-Dimensional Scaling (MDS) algorithm on a weighted data space. **Dimension weights** are applied to the high-dimensional (HD) data.  Weights are normalized to sum to 1, so as to normalize the HD distances to roughly constant size space independent of p.\n",
    "\n",
    "The **distance function for the high-dimensional (HD) data** is L1 manhattan distance. L1 is good for general purpose use with multi-dimensional quantitative datasets. \n",
    "\n",
    "The **distance function for the 2D projected points** is L2 Euclidean distance, which makes sense for human percpetion in the plot."
   ]
  },
  {
   "cell_type": "code",
   "execution_count": 14,
   "metadata": {},
   "outputs": [],
   "source": [
    "### Compute the distance matrix for the weighted high-dimensional data using L1 distance function.\n",
    "###  Input HD data should already be weighted.\n",
    "def distance_matrix_HD(dataHDw):  # dataHDw (pandas or numpy) -> distance matrix (numpy)\n",
    "    dist_matrix = sklearn.metrics.pairwise.manhattan_distances(dataHDw)\n",
    "    #m = pd.DataFrame(m, columns=dataHD.index, index=dataHD.index)  # keep as np array for performance\n",
    "    return dist_matrix\n",
    "\n",
    "### Compute the distance matrix for 2D projected data using L2 distance function.\n",
    "def distance_matrix_2D(data2D):  # data2d (pandas or numpy) -> distance matrix (numpy)\n",
    "    dist_matrix = sklearn.metrics.pairwise.euclidean_distances(data2D) \n",
    "    #m = pd.DataFrame(m, columns=data2D.index, index=data2D.index) # keep as np array for performance\n",
    "    return dist_matrix\n",
    "\n",
    "# def dist(x,y):\n",
    "#    return np.linalg.norm(x-y, ord=2)"
   ]
  },
  {
   "cell_type": "markdown",
   "metadata": {},
   "source": [
    "**MDS** projects the weighted high-dimensional data to 2D. Tune the algorithm's parameters for performance."
   ]
  },
  {
   "cell_type": "code",
   "execution_count": 15,
   "metadata": {},
   "outputs": [
    {
     "ename": "ValueError",
     "evalue": "Found array with 0 sample(s) (shape=(0, 0)) while a minimum of 1 is required by check_pairwise_arrays.",
     "output_type": "error",
     "traceback": [
      "\u001b[1;31m---------------------------------------------------------------------------\u001b[0m",
      "\u001b[1;31mValueError\u001b[0m                                Traceback (most recent call last)",
      "\u001b[1;32m~\\AppData\\Local\\Temp\\ipykernel_23020\\2908582313.py\u001b[0m in \u001b[0;36m<module>\u001b[1;34m\u001b[0m\n\u001b[0;32m     47\u001b[0m \u001b[0mweights\u001b[0m \u001b[1;33m=\u001b[0m \u001b[0mget_weights\u001b[0m\u001b[1;33m(\u001b[0m\u001b[0mload_weights_from_file\u001b[0m\u001b[1;33m)\u001b[0m\u001b[1;33m\u001b[0m\u001b[1;33m\u001b[0m\u001b[0m\n\u001b[0;32m     48\u001b[0m \u001b[1;33m\u001b[0m\u001b[0m\n\u001b[1;32m---> 49\u001b[1;33m \u001b[0mdf_2D\u001b[0m \u001b[1;33m=\u001b[0m \u001b[0mdimension_reduction\u001b[0m\u001b[1;33m(\u001b[0m\u001b[0mnormalized_df\u001b[0m\u001b[1;33m,\u001b[0m \u001b[0mweights\u001b[0m\u001b[1;33m)\u001b[0m   \u001b[1;31m# the current projected data\u001b[0m\u001b[1;33m\u001b[0m\u001b[1;33m\u001b[0m\u001b[0m\n\u001b[0m",
      "\u001b[1;32m~\\AppData\\Local\\Temp\\ipykernel_23020\\2908582313.py\u001b[0m in \u001b[0;36mdimension_reduction\u001b[1;34m(dataHD, wts)\u001b[0m\n\u001b[0;32m     30\u001b[0m \u001b[1;33m\u001b[0m\u001b[0m\n\u001b[0;32m     31\u001b[0m     \u001b[1;31m### DR algorithm\u001b[0m\u001b[1;33m\u001b[0m\u001b[1;33m\u001b[0m\u001b[1;33m\u001b[0m\u001b[0m\n\u001b[1;32m---> 32\u001b[1;33m     \u001b[0mdata2D\u001b[0m \u001b[1;33m=\u001b[0m \u001b[0mcompute_mds\u001b[0m\u001b[1;33m(\u001b[0m\u001b[0mdataHDw\u001b[0m\u001b[1;33m)\u001b[0m\u001b[1;33m\u001b[0m\u001b[1;33m\u001b[0m\u001b[0m\n\u001b[0m\u001b[0;32m     33\u001b[0m \u001b[1;33m\u001b[0m\u001b[0m\n\u001b[0;32m     34\u001b[0m     \u001b[1;31m### Compute row relevances as:  data dot weights\u001b[0m\u001b[1;33m\u001b[0m\u001b[1;33m\u001b[0m\u001b[1;33m\u001b[0m\u001b[0m\n",
      "\u001b[1;32m~\\AppData\\Local\\Temp\\ipykernel_23020\\2908582313.py\u001b[0m in \u001b[0;36mcompute_mds\u001b[1;34m(dataHDw)\u001b[0m\n\u001b[0;32m      7\u001b[0m \u001b[1;33m\u001b[0m\u001b[0m\n\u001b[0;32m      8\u001b[0m \u001b[1;32mdef\u001b[0m \u001b[0mcompute_mds\u001b[0m\u001b[1;33m(\u001b[0m\u001b[0mdataHDw\u001b[0m\u001b[1;33m)\u001b[0m\u001b[1;33m:\u001b[0m  \u001b[1;31m# dataHDw -> data2D (pandas)\u001b[0m\u001b[1;33m\u001b[0m\u001b[1;33m\u001b[0m\u001b[0m\n\u001b[1;32m----> 9\u001b[1;33m     \u001b[0mdistHD\u001b[0m \u001b[1;33m=\u001b[0m \u001b[0mdistance_matrix_HD\u001b[0m\u001b[1;33m(\u001b[0m\u001b[0mdataHDw\u001b[0m\u001b[1;33m)\u001b[0m\u001b[1;33m\u001b[0m\u001b[1;33m\u001b[0m\u001b[0m\n\u001b[0m\u001b[0;32m     10\u001b[0m     \u001b[1;31m### Adjust these parameters for performance/accuracy tradeoff\u001b[0m\u001b[1;33m\u001b[0m\u001b[1;33m\u001b[0m\u001b[1;33m\u001b[0m\u001b[0m\n\u001b[0;32m     11\u001b[0m     \u001b[0mmds\u001b[0m \u001b[1;33m=\u001b[0m \u001b[0msklearn\u001b[0m\u001b[1;33m.\u001b[0m\u001b[0mmanifold\u001b[0m\u001b[1;33m.\u001b[0m\u001b[0mMDS\u001b[0m\u001b[1;33m(\u001b[0m\u001b[0mn_components\u001b[0m\u001b[1;33m=\u001b[0m\u001b[1;36m2\u001b[0m\u001b[1;33m,\u001b[0m \u001b[0mdissimilarity\u001b[0m\u001b[1;33m=\u001b[0m\u001b[1;34m'precomputed'\u001b[0m\u001b[1;33m,\u001b[0m \u001b[0mn_init\u001b[0m\u001b[1;33m=\u001b[0m\u001b[1;36m10\u001b[0m\u001b[1;33m,\u001b[0m \u001b[0mmax_iter\u001b[0m\u001b[1;33m=\u001b[0m\u001b[1;36m1000\u001b[0m\u001b[1;33m)\u001b[0m\u001b[1;33m\u001b[0m\u001b[1;33m\u001b[0m\u001b[0m\n",
      "\u001b[1;32m~\\AppData\\Local\\Temp\\ipykernel_23020\\2716748695.py\u001b[0m in \u001b[0;36mdistance_matrix_HD\u001b[1;34m(dataHDw)\u001b[0m\n\u001b[0;32m      2\u001b[0m \u001b[1;31m###  Input HD data should already be weighted.\u001b[0m\u001b[1;33m\u001b[0m\u001b[1;33m\u001b[0m\u001b[1;33m\u001b[0m\u001b[0m\n\u001b[0;32m      3\u001b[0m \u001b[1;32mdef\u001b[0m \u001b[0mdistance_matrix_HD\u001b[0m\u001b[1;33m(\u001b[0m\u001b[0mdataHDw\u001b[0m\u001b[1;33m)\u001b[0m\u001b[1;33m:\u001b[0m  \u001b[1;31m# dataHDw (pandas or numpy) -> distance matrix (numpy)\u001b[0m\u001b[1;33m\u001b[0m\u001b[1;33m\u001b[0m\u001b[0m\n\u001b[1;32m----> 4\u001b[1;33m     \u001b[0mdist_matrix\u001b[0m \u001b[1;33m=\u001b[0m \u001b[0msklearn\u001b[0m\u001b[1;33m.\u001b[0m\u001b[0mmetrics\u001b[0m\u001b[1;33m.\u001b[0m\u001b[0mpairwise\u001b[0m\u001b[1;33m.\u001b[0m\u001b[0mmanhattan_distances\u001b[0m\u001b[1;33m(\u001b[0m\u001b[0mdataHDw\u001b[0m\u001b[1;33m)\u001b[0m\u001b[1;33m\u001b[0m\u001b[1;33m\u001b[0m\u001b[0m\n\u001b[0m\u001b[0;32m      5\u001b[0m     \u001b[1;31m#m = pd.DataFrame(m, columns=dataHD.index, index=dataHD.index)  # keep as np array for performance\u001b[0m\u001b[1;33m\u001b[0m\u001b[1;33m\u001b[0m\u001b[1;33m\u001b[0m\u001b[0m\n\u001b[0;32m      6\u001b[0m     \u001b[1;32mreturn\u001b[0m \u001b[0mdist_matrix\u001b[0m\u001b[1;33m\u001b[0m\u001b[1;33m\u001b[0m\u001b[0m\n",
      "\u001b[1;32mc:\\users\\timot\\appdata\\local\\programs\\python\\python37\\lib\\site-packages\\sklearn\\utils\\validation.py\u001b[0m in \u001b[0;36minner_f\u001b[1;34m(*args, **kwargs)\u001b[0m\n\u001b[0;32m     61\u001b[0m             \u001b[0mextra_args\u001b[0m \u001b[1;33m=\u001b[0m \u001b[0mlen\u001b[0m\u001b[1;33m(\u001b[0m\u001b[0margs\u001b[0m\u001b[1;33m)\u001b[0m \u001b[1;33m-\u001b[0m \u001b[0mlen\u001b[0m\u001b[1;33m(\u001b[0m\u001b[0mall_args\u001b[0m\u001b[1;33m)\u001b[0m\u001b[1;33m\u001b[0m\u001b[1;33m\u001b[0m\u001b[0m\n\u001b[0;32m     62\u001b[0m             \u001b[1;32mif\u001b[0m \u001b[0mextra_args\u001b[0m \u001b[1;33m<=\u001b[0m \u001b[1;36m0\u001b[0m\u001b[1;33m:\u001b[0m\u001b[1;33m\u001b[0m\u001b[1;33m\u001b[0m\u001b[0m\n\u001b[1;32m---> 63\u001b[1;33m                 \u001b[1;32mreturn\u001b[0m \u001b[0mf\u001b[0m\u001b[1;33m(\u001b[0m\u001b[1;33m*\u001b[0m\u001b[0margs\u001b[0m\u001b[1;33m,\u001b[0m \u001b[1;33m**\u001b[0m\u001b[0mkwargs\u001b[0m\u001b[1;33m)\u001b[0m\u001b[1;33m\u001b[0m\u001b[1;33m\u001b[0m\u001b[0m\n\u001b[0m\u001b[0;32m     64\u001b[0m \u001b[1;33m\u001b[0m\u001b[0m\n\u001b[0;32m     65\u001b[0m             \u001b[1;31m# extra_args > 0\u001b[0m\u001b[1;33m\u001b[0m\u001b[1;33m\u001b[0m\u001b[1;33m\u001b[0m\u001b[0m\n",
      "\u001b[1;32mc:\\users\\timot\\appdata\\local\\programs\\python\\python37\\lib\\site-packages\\sklearn\\metrics\\pairwise.py\u001b[0m in \u001b[0;36mmanhattan_distances\u001b[1;34m(X, Y, sum_over_features)\u001b[0m\n\u001b[0;32m    780\u001b[0m            [1., 1.]])\n\u001b[0;32m    781\u001b[0m     \"\"\"\n\u001b[1;32m--> 782\u001b[1;33m     \u001b[0mX\u001b[0m\u001b[1;33m,\u001b[0m \u001b[0mY\u001b[0m \u001b[1;33m=\u001b[0m \u001b[0mcheck_pairwise_arrays\u001b[0m\u001b[1;33m(\u001b[0m\u001b[0mX\u001b[0m\u001b[1;33m,\u001b[0m \u001b[0mY\u001b[0m\u001b[1;33m)\u001b[0m\u001b[1;33m\u001b[0m\u001b[1;33m\u001b[0m\u001b[0m\n\u001b[0m\u001b[0;32m    783\u001b[0m \u001b[1;33m\u001b[0m\u001b[0m\n\u001b[0;32m    784\u001b[0m     \u001b[1;32mif\u001b[0m \u001b[0missparse\u001b[0m\u001b[1;33m(\u001b[0m\u001b[0mX\u001b[0m\u001b[1;33m)\u001b[0m \u001b[1;32mor\u001b[0m \u001b[0missparse\u001b[0m\u001b[1;33m(\u001b[0m\u001b[0mY\u001b[0m\u001b[1;33m)\u001b[0m\u001b[1;33m:\u001b[0m\u001b[1;33m\u001b[0m\u001b[1;33m\u001b[0m\u001b[0m\n",
      "\u001b[1;32mc:\\users\\timot\\appdata\\local\\programs\\python\\python37\\lib\\site-packages\\sklearn\\utils\\validation.py\u001b[0m in \u001b[0;36minner_f\u001b[1;34m(*args, **kwargs)\u001b[0m\n\u001b[0;32m     61\u001b[0m             \u001b[0mextra_args\u001b[0m \u001b[1;33m=\u001b[0m \u001b[0mlen\u001b[0m\u001b[1;33m(\u001b[0m\u001b[0margs\u001b[0m\u001b[1;33m)\u001b[0m \u001b[1;33m-\u001b[0m \u001b[0mlen\u001b[0m\u001b[1;33m(\u001b[0m\u001b[0mall_args\u001b[0m\u001b[1;33m)\u001b[0m\u001b[1;33m\u001b[0m\u001b[1;33m\u001b[0m\u001b[0m\n\u001b[0;32m     62\u001b[0m             \u001b[1;32mif\u001b[0m \u001b[0mextra_args\u001b[0m \u001b[1;33m<=\u001b[0m \u001b[1;36m0\u001b[0m\u001b[1;33m:\u001b[0m\u001b[1;33m\u001b[0m\u001b[1;33m\u001b[0m\u001b[0m\n\u001b[1;32m---> 63\u001b[1;33m                 \u001b[1;32mreturn\u001b[0m \u001b[0mf\u001b[0m\u001b[1;33m(\u001b[0m\u001b[1;33m*\u001b[0m\u001b[0margs\u001b[0m\u001b[1;33m,\u001b[0m \u001b[1;33m**\u001b[0m\u001b[0mkwargs\u001b[0m\u001b[1;33m)\u001b[0m\u001b[1;33m\u001b[0m\u001b[1;33m\u001b[0m\u001b[0m\n\u001b[0m\u001b[0;32m     64\u001b[0m \u001b[1;33m\u001b[0m\u001b[0m\n\u001b[0;32m     65\u001b[0m             \u001b[1;31m# extra_args > 0\u001b[0m\u001b[1;33m\u001b[0m\u001b[1;33m\u001b[0m\u001b[1;33m\u001b[0m\u001b[0m\n",
      "\u001b[1;32mc:\\users\\timot\\appdata\\local\\programs\\python\\python37\\lib\\site-packages\\sklearn\\metrics\\pairwise.py\u001b[0m in \u001b[0;36mcheck_pairwise_arrays\u001b[1;34m(X, Y, precomputed, dtype, accept_sparse, force_all_finite, copy)\u001b[0m\n\u001b[0;32m    142\u001b[0m         X = Y = check_array(X, accept_sparse=accept_sparse, dtype=dtype,\n\u001b[0;32m    143\u001b[0m                             \u001b[0mcopy\u001b[0m\u001b[1;33m=\u001b[0m\u001b[0mcopy\u001b[0m\u001b[1;33m,\u001b[0m \u001b[0mforce_all_finite\u001b[0m\u001b[1;33m=\u001b[0m\u001b[0mforce_all_finite\u001b[0m\u001b[1;33m,\u001b[0m\u001b[1;33m\u001b[0m\u001b[1;33m\u001b[0m\u001b[0m\n\u001b[1;32m--> 144\u001b[1;33m                             estimator=estimator)\n\u001b[0m\u001b[0;32m    145\u001b[0m     \u001b[1;32melse\u001b[0m\u001b[1;33m:\u001b[0m\u001b[1;33m\u001b[0m\u001b[1;33m\u001b[0m\u001b[0m\n\u001b[0;32m    146\u001b[0m         X = check_array(X, accept_sparse=accept_sparse, dtype=dtype,\n",
      "\u001b[1;32mc:\\users\\timot\\appdata\\local\\programs\\python\\python37\\lib\\site-packages\\sklearn\\utils\\validation.py\u001b[0m in \u001b[0;36minner_f\u001b[1;34m(*args, **kwargs)\u001b[0m\n\u001b[0;32m     61\u001b[0m             \u001b[0mextra_args\u001b[0m \u001b[1;33m=\u001b[0m \u001b[0mlen\u001b[0m\u001b[1;33m(\u001b[0m\u001b[0margs\u001b[0m\u001b[1;33m)\u001b[0m \u001b[1;33m-\u001b[0m \u001b[0mlen\u001b[0m\u001b[1;33m(\u001b[0m\u001b[0mall_args\u001b[0m\u001b[1;33m)\u001b[0m\u001b[1;33m\u001b[0m\u001b[1;33m\u001b[0m\u001b[0m\n\u001b[0;32m     62\u001b[0m             \u001b[1;32mif\u001b[0m \u001b[0mextra_args\u001b[0m \u001b[1;33m<=\u001b[0m \u001b[1;36m0\u001b[0m\u001b[1;33m:\u001b[0m\u001b[1;33m\u001b[0m\u001b[1;33m\u001b[0m\u001b[0m\n\u001b[1;32m---> 63\u001b[1;33m                 \u001b[1;32mreturn\u001b[0m \u001b[0mf\u001b[0m\u001b[1;33m(\u001b[0m\u001b[1;33m*\u001b[0m\u001b[0margs\u001b[0m\u001b[1;33m,\u001b[0m \u001b[1;33m**\u001b[0m\u001b[0mkwargs\u001b[0m\u001b[1;33m)\u001b[0m\u001b[1;33m\u001b[0m\u001b[1;33m\u001b[0m\u001b[0m\n\u001b[0m\u001b[0;32m     64\u001b[0m \u001b[1;33m\u001b[0m\u001b[0m\n\u001b[0;32m     65\u001b[0m             \u001b[1;31m# extra_args > 0\u001b[0m\u001b[1;33m\u001b[0m\u001b[1;33m\u001b[0m\u001b[1;33m\u001b[0m\u001b[0m\n",
      "\u001b[1;32mc:\\users\\timot\\appdata\\local\\programs\\python\\python37\\lib\\site-packages\\sklearn\\utils\\validation.py\u001b[0m in \u001b[0;36mcheck_array\u001b[1;34m(array, accept_sparse, accept_large_sparse, dtype, order, copy, force_all_finite, ensure_2d, allow_nd, ensure_min_samples, ensure_min_features, estimator)\u001b[0m\n\u001b[0;32m    670\u001b[0m                              \u001b[1;34m\" minimum of %d is required%s.\"\u001b[0m\u001b[1;33m\u001b[0m\u001b[1;33m\u001b[0m\u001b[0m\n\u001b[0;32m    671\u001b[0m                              % (n_samples, array.shape, ensure_min_samples,\n\u001b[1;32m--> 672\u001b[1;33m                                 context))\n\u001b[0m\u001b[0;32m    673\u001b[0m \u001b[1;33m\u001b[0m\u001b[0m\n\u001b[0;32m    674\u001b[0m     \u001b[1;32mif\u001b[0m \u001b[0mensure_min_features\u001b[0m \u001b[1;33m>\u001b[0m \u001b[1;36m0\u001b[0m \u001b[1;32mand\u001b[0m \u001b[0marray\u001b[0m\u001b[1;33m.\u001b[0m\u001b[0mndim\u001b[0m \u001b[1;33m==\u001b[0m \u001b[1;36m2\u001b[0m\u001b[1;33m:\u001b[0m\u001b[1;33m\u001b[0m\u001b[1;33m\u001b[0m\u001b[0m\n",
      "\u001b[1;31mValueError\u001b[0m: Found array with 0 sample(s) (shape=(0, 0)) while a minimum of 1 is required by check_pairwise_arrays."
     ]
    }
   ],
   "source": [
    "### Calculate the MDS stress metric between HD and 2D distances.  Uses numpy for efficiency.\n",
    "def stress(distHD, dist2D):  #  distHD, dist2D (numpy) -> stress (float)\n",
    "    #s = np.sqrt((distHD-dist2D).pow(2).sum().sum() / distHD.pow(2).sum().sum())  # pandas\n",
    "    #s = np.sqrt(((distHD-dist2D)**2).sum() / (distHD**2).sum())   # numpy\n",
    "    s = ((distHD-dist2D)**2).sum() / (distHD**2).sum()   # numpy, eliminate sqrt for efficiency\n",
    "    return s\n",
    "\n",
    "def compute_mds(dataHDw):  # dataHDw -> data2D (pandas)\n",
    "    distHD = distance_matrix_HD(dataHDw)\n",
    "    ### Adjust these parameters for performance/accuracy tradeoff\n",
    "    mds = sklearn.manifold.MDS(n_components=2, dissimilarity='precomputed', n_init=10, max_iter=1000)\n",
    "    # Reduction algorithm happens here:  data2D is nx2 matrix\n",
    "    data2D = mds.fit_transform(distHD)\n",
    "    \n",
    "    ### Rotate the resulting 2D projection to make it more consistent across multiple runs.\n",
    "    ### Set the 1st PC to the y axis, plot looks better to spread data vertically with horizontal text labels\n",
    "    pca = sklearn.decomposition.PCA(n_components=2)\n",
    "    data2D = pca.fit_transform(data2D)\n",
    "    data2D = pd.DataFrame(data2D, columns=['y','x'], index=dataHDw.index)\n",
    "    \n",
    "    data2D.stress_value = stress(distHD, distance_matrix_2D(data2D))\n",
    "    return data2D\n",
    "\n",
    "def dimension_reduction(dataHD, wts): # dataHD, wts -> data2D (pandas)\n",
    "    ### Normalize the weights to sum to 1\n",
    "    wts = wts/wts.sum()\n",
    "    \n",
    "    ### Apply weights to the HD data \n",
    "    dataHDw = dataHD * wts\n",
    "    \n",
    "    ### DR algorithm\n",
    "    data2D = compute_mds(dataHDw)\n",
    "\n",
    "    ### Compute row relevances as:  data dot weights\n",
    "    ### High relevance means large values in upweighted dimensions\n",
    "#     data2D['relevance'] = dataHDw.sum(axis=1)\n",
    "    return data2D\n",
    "\n",
    "def get_weights(load_weights_from_file=False):\n",
    "    if load_weights_from_file:\n",
    "        weights = pd.read_csv(weights_path)['Weight']\n",
    "    else:\n",
    "        min_weight, max_weight = 0.00001, 0.9999\n",
    "        init_weight = min_weight  # 1.0/len(normalized_df.columns) # initialize to min to make the sliders easier to use.\n",
    "        weights = pd.Series(init_weight, index=normalized_df.columns, name=\"Weight\")  # the current weight list\n",
    "    return weights\n",
    "weights = get_weights(load_weights_from_file)\n",
    "\n",
    "df_2D = dimension_reduction(normalized_df, weights)   # the current projected data"
   ]
  },
  {
   "cell_type": "code",
   "execution_count": null,
   "metadata": {},
   "outputs": [],
   "source": [
    "dict_from_csv_un = pd.read_csv('./WeightsDirectory/Simposons4characters.csv', header=None, skiprows=1)\n",
    "# dict_from_csv = {k: dict_from_csv_un[k] for k in dict_from_csv_un if not isnan(k)}\n",
    "dict_from_csv_un"
   ]
  },
  {
   "cell_type": "code",
   "execution_count": null,
   "metadata": {},
   "outputs": [],
   "source": [
    "pd.DataFrame(distance_matrix_HD(normalized_df * (weights/weights.sum())), \n",
    "             columns=normalized_df.index, index=normalized_df.index).head(2)"
   ]
  },
  {
   "cell_type": "markdown",
   "metadata": {},
   "source": [
    "# Inverse Dimension-Reduction Learning Algorithm\n",
    "\n",
    "Computes the inverse-Dimension-Reduction: given input 2D points, compute new weights.\n",
    "Optimizes the MDS stress function that compares 2D pairwise distances (||$x_i-x_j||$) to weighted HD pairwise distances ($d_{ij}$):\n",
    "![Stress](https://wikimedia.org/api/rest_v1/media/math/render/svg/7989b3afc0d8795a78c1631c7e807f260d9cfe68)\n",
    "\n",
    "Technically, we compute the inverse weighted distance function. We shortcut the optimization by eliminating MDS from the process, and assume that the user input 2D distances are actually the desired HD distances, not the 2D distances after re-projection. Thus, given the input (HD) distances, we find weights that would produce these distances in the HD space."
   ]
  },
  {
   "cell_type": "code",
   "execution_count": null,
   "metadata": {},
   "outputs": [],
   "source": [
    "# This method is used to propose a new weight for current column in a smart fashion\n",
    "def new_proposal(current, step, direction):\n",
    "    return np.clip(current + direction*step*random.random(), 0.00001, 0.9999)\n",
    "\n",
    "### Repeatedly tries to modify each dim weight to see if it improves the stress, thus\n",
    "### getting the weighted high-dim distances to more closely match the input 2D distances.\n",
    "#     dataHD = high-dim data, as pandas\n",
    "#     data2D = 2D data input, as pandas\n",
    "#     weights = as pandas series, or None for weights[i]=1/p\n",
    "def inverse_DR(dataHD, data2D, curWeights=None):  # -> new weights, as Series\n",
    "    dist2D = distance_matrix_2D(data2D)  # compute 2D distances only once\n",
    "    col_names = dataHD.columns\n",
    "    dataHD = dataHD.to_numpy()  # use numpy for efficiency\n",
    "    row, col = dataHD.shape\n",
    "    \n",
    "    if curWeights==None:\n",
    "        curWeights = np.array([1.0/col]*col)  # default weights = 1/p\n",
    "    else:\n",
    "        curWeights = curWeights.to_numpy()\n",
    "        curWeights = curWeights / curWeights.sum()  # Normalize weights to sum to 1\n",
    "    newWeights = curWeights.copy()  # re-use this array for efficiency\n",
    "    \n",
    "    # Initialize state\n",
    "    flag = [0]*col         # degree of success of a weight change\n",
    "    direction = [1]*col  # direction to move a weight, pos or neg\n",
    "    step = [1.0/col]*col   # how much to change each weight\n",
    "    \n",
    "    dataHDw = dataHD * curWeights   # weighted space, re-use this array for efficiency\n",
    "    distHD = distance_matrix_HD(dataHDw)\n",
    "    curStress = stress(distHD, dist2D)\n",
    "    print('Starting stress =', curStress, 'Processing...')\n",
    "\n",
    "    MAX = 500   # default setting of the number of iterations\n",
    "\n",
    "    # Try to minorly adjust each weight to see if it reduces stress\n",
    "    for i in range(MAX):\n",
    "        for dim in range(col):            \n",
    "            # Get a new weight for current column\n",
    "            nw = new_proposal(curWeights[dim], step[dim], direction[dim])\n",
    "            \n",
    "            # Scale the weight list such that it sums to 1\n",
    "            #newWeights = curWeights.copy()  # avoid extra copy op using math below\n",
    "            #newWeights[dim] = nw\n",
    "            #newWeights = newWeights / s\n",
    "            s = 1.0  + nw - curWeights[dim]   # 1.0 == curWeights.sum()\n",
    "            np.true_divide(curWeights, s, out=newWeights)  # transfers to other array, while doing /\n",
    "            newWeights[dim] = nw / s\n",
    "            \n",
    "            # Apply new weights to HD data\n",
    "            np.multiply(dataHD, newWeights, out=dataHDw)  # dataHDw = dataHD * newWeights; efficiently reuses dataHDw array\n",
    "            distHD = distance_matrix_HD(dataHDw)\n",
    "\n",
    "            # Get the new stress\n",
    "            newStress = stress(distHD, dist2D)\n",
    "            \n",
    "            # If new stress is lower, then update weights and flag this success\n",
    "            if newStress < curStress:\n",
    "                temp = curWeights\n",
    "                curWeights = newWeights\n",
    "                newWeights = temp   # reuse the old array next iteration\n",
    "                curStress = newStress\n",
    "                flag[dim] = flag[dim] + 1\n",
    "            else:\n",
    "                flag[dim] = flag[dim] - 1\n",
    "                direction[dim] = -direction[dim]  # Reverse course\n",
    "    \n",
    "            # If recent success, then speed up the step rate\n",
    "            if flag[dim] >= 5:\n",
    "                step[dim] = step[dim] * 2\n",
    "                flag[dim] = 0\n",
    "            elif flag[dim] <= -5:\n",
    "                step[dim] = step[dim] / 2\n",
    "                flag[dim] = 0\n",
    "                \n",
    "    print('Solution stress =', curStress, 'Done.')\n",
    "    return pd.Series(curWeights, index=col_names, name=\"Weight\")\n"
   ]
  },
  {
   "cell_type": "markdown",
   "metadata": {},
   "source": [
    "# Visualization and UI code\n",
    "\n",
    "Use these functions to create the GUI components in any cell."
   ]
  },
  {
   "cell_type": "markdown",
   "metadata": {},
   "source": [
    "## Checkbox"
   ]
  },
  {
   "cell_type": "code",
   "execution_count": null,
   "metadata": {},
   "outputs": [],
   "source": [
    "def create_checkbox():\n",
    "    title_checkbox = widgets.Checkbox(False, description='Toggle Titles',indent=False,\n",
    "                                      layout=Layout(width='20%', height='20px'))\n",
    "    image_checkbox = widgets.Checkbox(True, description='Toggle Images',indent=False,\n",
    "                                      layout=Layout(width='20%', height='20px'))\n",
    "    \n",
    "    def title_check_clicked(x):   \n",
    "        global imageNames\n",
    "        global paths\n",
    "        image = image_checkbox.value\n",
    "        draw_plot(plot_ax, df_2D, paths, x, image)\n",
    "    interact(title_check_clicked, x=title_checkbox)\n",
    "    \n",
    "    def image_clicked(x):   \n",
    "        global imageNames\n",
    "        global paths\n",
    "        title = title_checkbox.value\n",
    "        draw_plot(plot_ax, df_2D, paths, title, x)\n",
    "    interact(image_clicked, x=image_checkbox)\n",
    "    return title_checkbox, image_checkbox\n",
    "\n"
   ]
  },
  {
   "cell_type": "markdown",
   "metadata": {},
   "source": [
    "## Image Size Adjust Slider and Button"
   ]
  },
  {
   "cell_type": "code",
   "execution_count": null,
   "metadata": {},
   "outputs": [],
   "source": [
    "def create_size_slider(imgDisplaySize=0.2):\n",
    "\n",
    "    style = {'description_width': 'initial'}\n",
    "    size_slider = widgets.FloatSlider(min=0, max=1, step=0.01, value=imgDisplaySize, \n",
    "                                       description='Adjust image size', style = style, \n",
    "                                   continuous_update=False, readout_format='.5f',)\n",
    "    size_slider.style.handle_color = 'lightblue'\n",
    "\n",
    "    return size_slider\n",
    "\n",
    "def create_size_slider_button(size_slider): \n",
    "\n",
    "    size_apply_button = widgets.Button(description='Apply Slider Size',\n",
    "                                      style=ButtonStyle(button_color='lightblue'))\n",
    "    def size_slider_button_clicked(change):\n",
    "        draw_plot(plot_ax, df_2D, paths, imgSize=size_slider.value)\n",
    "    size_apply_button.on_click(size_slider_button_clicked)\n",
    "    return size_apply_button"
   ]
  },
  {
   "cell_type": "markdown",
   "metadata": {},
   "source": [
    "## Reset button"
   ]
  },
  {
   "cell_type": "code",
   "execution_count": null,
   "metadata": {},
   "outputs": [],
   "source": [
    "def create_reset_buttons():    \n",
    "    reset_button = widgets.Button(description='Reset Plot',style=ButtonStyle(button_color='salmon'))\n",
    "    def apply_button_clicked(change):\n",
    "        draw_plot(plot_ax,df_2D,paths)\n",
    "    reset_button.on_click(apply_button_clicked)\n",
    "\n",
    "    return reset_button"
   ]
  },
  {
   "cell_type": "markdown",
   "metadata": {},
   "source": [
    "## Attention Map Button"
   ]
  },
  {
   "cell_type": "code",
   "execution_count": null,
   "metadata": {},
   "outputs": [],
   "source": [
    "def create_visual_explainations():\n",
    "    # Print selected points\n",
    "    print_button = widgets.Button(description='Visual Explainations')\n",
    "    print_output = widgets.Output()\n",
    "\n",
    "    def feature_button_clicked(change):\n",
    "        print_output.clear_output()\n",
    "        # Get list of selected points and print their source data values\n",
    "        \n",
    "        if point_attribute[1].value:\n",
    "            c_index = [c.index for c in plot_ax.ellipse if c.selected]\n",
    "        else:\n",
    "            c_index = [c.index for c in plot_ax.circles if c.selected]\n",
    "        \n",
    "        s_index =list(df.iloc[c_index, :].index)\n",
    "            \n",
    "        weights_list = torch.tensor(np.float32(weights))\n",
    "        files = []\n",
    "        for i in s_index:\n",
    "            files.append(imageNames[i])\n",
    "        transform = transforms.Compose([\n",
    "                transforms.Resize((224,224)),\n",
    "                transforms.ToTensor(),\n",
    "                transforms.Normalize([0.485, 0.456, 0.406], [0.229, 0.224, 0.225])\n",
    "            ])\n",
    "        ds = FilenameDataset(files, transform)\n",
    "        loader = DataLoader(ds)\n",
    "        model = resnet18(pretrained=True).eval()\n",
    "\n",
    "        with print_output:\n",
    "            if len(s_index) > 0:\n",
    "                model_vis  = ResnetVisualizer(model.eval(),weight_list = weights_list)\n",
    "                \n",
    "                # set number of columns (use 3 to demonstrate the change)\n",
    "                ncols = 2\n",
    "                # calculate number of rows\n",
    "                nrows = len(loader)\n",
    "                \n",
    "                plt.figure(figsize = (6,10))\n",
    "                for i, img in zip(range(len(loader)), loader):\n",
    "                    with torch.no_grad():\n",
    "                        x, vis, feature_map = model_vis(img)                   \n",
    "                    vis = vis[0].numpy().transpose(1,2,0)[:,:,0]\n",
    "                    vis = np.interp(vis, [vis.min(), vis.max()], [0,1])\n",
    "                    img = img[0].numpy().transpose(1,2,0)\n",
    "                    img = np.interp(img, [img.min(), img.max()], [0,1])\n",
    "                    plt.subplot(nrows, ncols, 2*i+1)\n",
    "                    plt.imshow(img, interpolation='bilinear')\n",
    "                    plt.axis('off')\n",
    "                    plt.subplot(nrows,ncols,2*(i+1))\n",
    "                    plt.imshow(vis, cmap='viridis', interpolation='bilinear')\n",
    "                    plt.axis('off')\n",
    "                plt.tight_layout()\n",
    "                plt.show()\n",
    "            else:\n",
    "                print('Select points in the plot to see details here')\n",
    "    print_button.on_click(feature_button_clicked)\n",
    "\n",
    "    display(print_button)\n",
    "    display(print_output)\n",
    "    return print_button, print_output"
   ]
  },
  {
   "cell_type": "code",
   "execution_count": null,
   "metadata": {},
   "outputs": [],
   "source": [
    "def create_attention_map():\n",
    "    # Print selected points\n",
    "    print_button = widgets.Button(description='Activation Map')\n",
    "    print_output = widgets.Output()\n",
    "\n",
    "    def feature_button_clicked(change):\n",
    "        print_output.clear_output()\n",
    "        # Get list of selected points and print their source data values\n",
    "        \n",
    "        if point_attribute[1].value:\n",
    "            c_index = [c.index for c in plot_ax.ellipse if c.selected]\n",
    "        else:\n",
    "            c_index = [c.index for c in plot_ax.circles if c.selected]\n",
    "        \n",
    "        s_index =list(df.iloc[c_index, :].index)\n",
    "            \n",
    "        weights_list = torch.tensor(np.float32(weights))\n",
    "        files = []\n",
    "        for i in s_index:\n",
    "            files.append(imageNames[i])\n",
    "        transform = transforms.Compose([\n",
    "                transforms.Resize((224,224)),\n",
    "                transforms.ToTensor(),\n",
    "                transforms.Normalize([0.485, 0.456, 0.406], [0.229, 0.224, 0.225])\n",
    "            ])\n",
    "        ds = FilenameDataset(files, transform)\n",
    "        loader = DataLoader(ds)\n",
    "        model = resnet18(pretrained=True).eval()\n",
    "\n",
    "        with print_output:\n",
    "            if len(s_index) > 0:\n",
    "                model_vis  = ResnetVisualizer(model.eval(),weight_list = weights_list)\n",
    "                \n",
    "                # set number of columns (use 3 to demonstrate the change)\n",
    "                ncols = 3\n",
    "                # calculate number of rows\n",
    "                nrows = len(loader) // ncols + (len(loader) % ncols > 0)\n",
    "                \n",
    "                plt.figure()\n",
    "                for i, img in zip(range(len(loader)), loader):\n",
    "                    with torch.no_grad():\n",
    "                        x, vis, feature_map = model_vis(img)\n",
    "        \n",
    "                    # plot\n",
    "                    for n in range(feature_map.shape[1]):\n",
    "                        feature_map[:,n,:,:] *= weights_list[n]\n",
    "                    heatmap_j = torch.sum(feature_map, 1, keepdim=True).squeeze()\n",
    "                    heatmap_j_max = heatmap_j.max(axis = 0)[0]\n",
    "                    heatmap_j /= heatmap_j_max\n",
    "                    heatmap_j = resize(heatmap_j,(224,224),preserve_range=True)\n",
    "                    img = img[0].numpy().transpose(1,2,0)\n",
    "                    img = np.interp(img, [img.min(), img.max()], [0,1])\n",
    "                    cmap = mpl.cm.get_cmap('jet',256)\n",
    "                    heatmap_j2 = cmap(heatmap_j,alpha = 0.6)\n",
    "                                        \n",
    "                    # add a new subplot iteratively using nrows and cols\n",
    "                    plt.subplot(nrows, ncols, i + 1)\n",
    "                    plt.imshow(img)\n",
    "                    plt.imshow(heatmap_j2)\n",
    "                    plt.axis('off')\n",
    "                plt.tight_layout()\n",
    "                plt.show()\n",
    "\n",
    "            else:\n",
    "                print('Select points in the plot to see details here')\n",
    "    print_button.on_click(feature_button_clicked)\n",
    "\n",
    "    display(print_button)\n",
    "    display(print_output)\n",
    "    return print_button, print_output"
   ]
  },
  {
   "cell_type": "markdown",
   "metadata": {},
   "source": [
    "## Inverse DR (Update Projections) Button and Plot"
   ]
  },
  {
   "cell_type": "code",
   "execution_count": null,
   "metadata": {},
   "outputs": [],
   "source": [
    "def create_inverse_button(fig_show=False):\n",
    "    inverse_button = widgets.Button(description='Learn New Weights',style=ButtonStyle(button_color='darkseagreen'))\n",
    "    copy_button = widgets.Button(description='Update Projections',style=ButtonStyle(button_color='darkseagreen'))\n",
    "\n",
    "    def inverse_button_clicked(change):\n",
    "#         ax.clear()\n",
    "\n",
    "        # Check minimum number of points moved\n",
    "        if point_attribute[1].value:\n",
    "            n = len([1 for c in plot_ax.ellipse if c.selected])\n",
    "        else:\n",
    "            n = len([1 for c in plot_ax.circles if c.selected])\n",
    "        if n < 2:\n",
    "            print('Need to select or move at least 2 points in the plot first.')\n",
    "            return\n",
    "\n",
    "        # Get selected data points\n",
    "        if point_attribute[1].value:\n",
    "            data2Dnew = pd.DataFrame([c.center for c in plot_ax.ellipse if c.selected], columns=['x','y'], \n",
    "                                    index=[c.label for c in plot_ax.ellipse if c.selected])\n",
    "        else:\n",
    "            data2Dnew = pd.DataFrame([c.center for c in plot_ax.circles if c.selected], columns=['x','y'], \n",
    "                                    index=[c.label for c in plot_ax.circles if c.selected])\n",
    "            \n",
    "        dataHDpart = normalized_df.loc[data2Dnew.index]\n",
    "\n",
    "        # Learn new weights\n",
    "        global weights\n",
    "        weights = inverse_DR(dataHDpart, data2Dnew)\n",
    "\n",
    "    inverse_button.on_click(inverse_button_clicked)\n",
    "\n",
    "    def copy_button_clicked(change):\n",
    "        # Set sliders to reflect the learned weights and update the DR and plot accordingly\n",
    "        global df_2D\n",
    "        global paths\n",
    "#         for i,s in enumerate(sliders):\n",
    "#             s.value = weights[i]\n",
    "        df_2D = dimension_reduction(normalized_df, weights)   \n",
    "        draw_plot(plot_ax, df_2D, paths)\n",
    "    copy_button.on_click(copy_button_clicked)\n",
    "#     display(inverse_button)\n",
    "#     display(copy_button)\n",
    "    if fig_show:\n",
    "        fig, ax = plt.subplots(figsize=(5,7))   # reserve a fig for the weights bar chart\n",
    "    return inverse_button, copy_button\n"
   ]
  },
  {
   "cell_type": "markdown",
   "metadata": {},
   "source": [
    "## Draggable Dimension-Reduction 2D Plot"
   ]
  },
  {
   "cell_type": "code",
   "execution_count": null,
   "metadata": {},
   "outputs": [],
   "source": [
    "# Handles mouse drag interaction events in the plot, users can select and drag points.\n",
    "class DraggablePoints_Image(object):\n",
    "    def __init__(self, ax, artists):\n",
    "        self.ax = ax\n",
    "        self.artists = artists\n",
    "        self.current_artist = None\n",
    "        self.last_selected = None\n",
    "        ax.selected_text.set_text('Selected: none')\n",
    "        self.offset = (0, 0)\n",
    "        # Set up mouse listeners\n",
    "        ax.figure.canvas.mpl_connect('pick_event', self.on_pick)\n",
    "        ax.figure.canvas.mpl_connect('motion_notify_event', self.on_motion)\n",
    "        ax.figure.canvas.mpl_connect('button_release_event', self.on_release)\n",
    "\n",
    "    def on_pick(self, event):\n",
    "        # When point is clicked on (mouse down), select it and start the drag\n",
    "        if self.current_artist is None:  # clicking on overlapped points sends multiple events\n",
    "            self.last_selected = event.artist.index  # event.ind\n",
    "            self.current_artist = event.artist\n",
    "            event.artist.selected = True\n",
    "            event.artist.set_facecolor('green')\n",
    "            self.ax.selected_text.set_text(\"Selected: \" + event.artist.label)\n",
    "            x0, y0 = event.artist.center\n",
    "            self.offset = (x0 - event.mouseevent.xdata), (y0 - event.mouseevent.ydata)            \n",
    "\n",
    "\n",
    "    def on_motion(self, event):\n",
    "        # When dragging, check if point is selected and valid mouse coordinates\n",
    "        if (self.current_artist is not None) and (event.xdata is not None) and (event.ydata is not None):\n",
    "            # Drag the point and its text label\n",
    "            dx, dy = self.offset\n",
    "            self.current_artist.center = x0, y0 = event.xdata + dx, event.ydata + dy\n",
    "            self.current_artist.text.set_position((x0 - 0.0003/2, \n",
    "                                                   y0 + 0.0005))\n",
    "            self.current_artist.ab.xybox = (x0,y0)\n",
    "        \n",
    "    def on_release(self, event):\n",
    "        # When mouse is released, stop the drag\n",
    "        self.current_artist = None"
   ]
  },
  {
   "cell_type": "code",
   "execution_count": null,
   "metadata": {},
   "outputs": [],
   "source": [
    "# Handles mouse drag interaction events in the plot, users can select and drag points.\n",
    "class DraggablePoints_circles(object):\n",
    "    def __init__(self, ax, artists):\n",
    "        self.ax = ax\n",
    "        self.artists = artists\n",
    "        self.current_artist = None\n",
    "        self.last_selected = None\n",
    "        ax.selected_text.set_text('Selected: none')\n",
    "        self.offset = (0, 0)\n",
    "        # Set up mouse listeners\n",
    "        ax.figure.canvas.mpl_connect('pick_event', self.on_pick)\n",
    "        ax.figure.canvas.mpl_connect('motion_notify_event', self.on_motion)\n",
    "        ax.figure.canvas.mpl_connect('button_release_event', self.on_release)\n",
    "\n",
    "    def on_pick(self, event):\n",
    "        # When point is clicked on (mouse down), select it and start the drag\n",
    "        if self.current_artist is None:  # clicking on overlapped points sends multiple events\n",
    "            self.last_selected = event.artist.index  # event.ind\n",
    "            self.current_artist = event.artist\n",
    "            event.artist.selected = True\n",
    "            event.artist.savecolor = event.artist.get_facecolor()\n",
    "            event.artist.set_facecolor('green')\n",
    "            #event.artist.set_alpha(1.0)\n",
    "            self.ax.selected_text.set_text(\"Selected: \" + event.artist.label)\n",
    "            x0, y0 = event.artist.center\n",
    "            self.offset = (x0 - event.mouseevent.xdata), (y0 - event.mouseevent.ydata)\n",
    "\n",
    "    def on_motion(self, event):\n",
    "        # When dragging, check if point is selected and valid mouse coordinates\n",
    "        if (self.current_artist is not None) and (event.xdata is not None) and (event.ydata is not None):\n",
    "            # Drag the point and its text label\n",
    "            dx, dy = self.offset\n",
    "            self.current_artist.center = x0, y0 = event.xdata + dx, event.ydata + dy\n",
    "            self.current_artist.text.set_position((x0 - self.current_artist.radius/2, \n",
    "                                                   y0 - self.current_artist.radius/2))\n",
    "            #self.ax.figure.canvas.draw()  # slow\n",
    "        \n",
    "    def on_release(self, event):\n",
    "        # When mouse is released, stop the drag\n",
    "        self.current_artist = None"
   ]
  },
  {
   "cell_type": "code",
   "execution_count": null,
   "metadata": {
    "scrolled": false
   },
   "outputs": [],
   "source": [
    "def create_plot(data2D, title=False):    \n",
    "    # Initialize DR plot figure   \n",
    "    fig, ax = plt.subplots(figsize= (10,10), dpi=80)\n",
    "    ax.selected_text = ax.figure.text(0,0.005, 'Selected: none', wrap=True, color='green')\n",
    "    ax.set_xticks([])\n",
    "    ax.set_yticks([])\n",
    "    ax.figure.tight_layout()\n",
    "    global imageNames\n",
    "    \n",
    "    # Store state data:\n",
    "    ax.ellipse = None\n",
    "    ax.dragpoint = None\n",
    "    draw_plot(ax, data2D, imageNames, title)\n",
    "        \n",
    "    return ax\n",
    "\n",
    "def image_preprocessing(paths):\n",
    "\n",
    "    global imageNames\n",
    "    path = imageNames[paths]\n",
    "    up_width = 224\n",
    "    up_height = 224\n",
    "    up_points = (up_width, up_height)    \n",
    "    src = cv2.imread(path, 1)\n",
    "    src = cv2.resize(src, up_points, interpolation= cv2.INTER_LINEAR)\n",
    "    tmp = cv2.cvtColor(src, cv2.COLOR_BGR2GRAY)        \n",
    "    _,alpha = cv2.threshold(tmp,0,255,cv2.THRESH_BINARY)\n",
    "    b, g, r = cv2.split(src)\n",
    "    rgba = [r,g,b, alpha]\n",
    "    dst = cv2.merge(rgba,4)\n",
    "\n",
    "    return dst\n",
    "\n",
    "def getImage(path,zoom):\n",
    "#     return OffsetImage(plt.imread(path), zoom = .04)\n",
    "    return OffsetImage(path,zoom=zoom)\n",
    "        \n",
    "def draw_plot(ax, data2D, paths, title=False, image=True, imgSize=0.2): \n",
    "    labels_df = df_2D.index.to_series().apply(lambda x: x.split('/')[0])\n",
    "    data2D['label'] = labels_df\n",
    "    label_list = list(set(data2D['label']))\n",
    "    conversion_dict = {k:v for k,v in zip(label_list,range(len(label_list)))}\n",
    "    data2D['label_num'] = data2D['label'].replace(conversion_dict)\n",
    "    if not image:\n",
    "        # Re-draws the DR plot in the axes with the updated data2D\n",
    "        ax.clear()\n",
    "#         labels_df = df_2D.index.to_series().apply(lambda x: x.split('/')[0])\n",
    "#         data2D['label'] = labels_df\n",
    "#         label_list = list(set(data2D['label']))\n",
    "#         conversion_dict = {k:v for k,v in zip(label_list,range(len(label_list)))}\n",
    "#         data2D['label_num'] = data2D['label'].replace(conversion_dict)\n",
    "        \n",
    "        # Map data to circles, with x, y, and label->color\n",
    "        \n",
    "        wid = max(data2D.x.max() - data2D.x.min(), data2D.y.max() - data2D.y.min())  # max range of x,y axes\n",
    "        cnorm = mpl.colors.Normalize(vmin=data2D.label_num.min(), vmax=data2D.label_num.max())\n",
    "        \n",
    "        ax.circles = data2D.apply(axis=1, func=lambda row: \n",
    "            mpl.patches.Circle(xy=(row.x, row.y), radius=wid/70, alpha=0.95, label=row.label_num,\n",
    "                                       color = plt.cm.Set3(cnorm(row.label_num)),picker=True))\n",
    "        for i,c in enumerate(ax.circles):\n",
    "            # Store state data:\n",
    "            c.index, c.label, c.selected = i, data2D.index[i], False\n",
    "            # Draw circles and text labels in plot\n",
    "            ax.add_patch(c)\n",
    "            \n",
    "            if title:\n",
    "                c.text = ax.text(c.center[0]-c.radius/2, c.center[1]-c.radius/2, c.label, color='black')\n",
    "            else:\n",
    "                c.text = ax.text(c.center[0]-c.radius/2, c.center[1]-c.radius/2, \"\", color='none')\n",
    "        # Make plot circles draggable\n",
    "        ax.dragpoint = DraggablePoints_circles(ax, ax.circles)\n",
    "\n",
    "    else:\n",
    "        ax.clear()\n",
    "        wid = max(data2D.x.max() - data2D.x.min(), data2D.y.max() - data2D.y.min())  # max range of x,y axes\n",
    "        i = 0\n",
    "        ax.ellipse = []\n",
    "        for x0, y0, path in zip(data2D.x, data2D.y, data2D.index):\n",
    "            ax.ellipse.append(mpl.patches.Ellipse(xy=(x0, y0), width = wid*imgSize*0.5, height = wid*imgSize*0.5, alpha=0.5, \n",
    "                                      color = 'none', picker=True))\n",
    "            c = ax.ellipse[-1]\n",
    "            c.index, c.label, c.selected = i, data2D.index[i], False\n",
    "            ax.add_patch(c)\n",
    "\n",
    "            if title:\n",
    "                c.text = ax.text(c.center[0]-0.0003/2, c.center[1]+0.0005, c.label, color = 'black')\n",
    "            else:\n",
    "                c.text = ax.text(c.center[0]-0.0003/2, c.center[1]+0.0005, \"\", color = 'none')\n",
    "            path = image_preprocessing(path)\n",
    "            img = getImage(path,zoom=imgSize)\n",
    "            c.ab = AnnotationBbox(img, (x0, y0), frameon=False)\n",
    "            ax.add_artist(c.ab)\n",
    "            ax.dragpoint = DraggablePoints_Image(ax, ax.ellipse)\n",
    "            i += 1        \n",
    "\n",
    "    # Clean up the plot\n",
    "    \n",
    "    ax.set_xticks([])\n",
    "    ax.set_yticks([])\n",
    "    ax.axis('equal')"
   ]
  },
  {
   "cell_type": "markdown",
   "metadata": {},
   "source": [
    "# Interactive Visualization"
   ]
  },
  {
   "cell_type": "markdown",
   "metadata": {},
   "source": [
    "## Dimension Reduction Plot\n",
    "This shows the HD data in 2D form, such that **proximity == similarity**, based on the current slider weights.  Distances between points in the plot approximately reflect their distances in the weighted HD data.  Thus points near each other have similar HD data values in the up-weighted dimensions, and points far away have very different HD data values in those dimensions.\n",
    "\n",
    "The color represents the **relevance** of each point to the current slider weights. Yellower points have larger values in up-weighted dimensions.\n",
    "\n",
    "Points can be **selected** to highlight in Green and view their details below.  Points can be **dragged** to specify a new projection for learning weights, see below. To reset the plot and clear the selections, click the **Reset** button above."
   ]
  },
  {
   "cell_type": "markdown",
   "metadata": {},
   "source": [
    "## Inverse Dimension Reduction\n",
    "After selecting and/or dragging some points in the DR plot, click the **Learn** button to machine learn new dimension weights that would produce a plot with similar pairwise distances as your plot.  **Only the Green selected points** in the plot are considered when learning new weights. You must select or move at least two points to specify new desired distances. Use this to create your own clusters, and find out what makes some data points similar to or different from others.  The **learned weights** are shown in a bar chart below.\n",
    "\n",
    "To see the effects of the learned weights, click the **Copy** button to apply the learned weights to the sliders and  make a new DR plot above."
   ]
  },
  {
   "cell_type": "code",
   "execution_count": null,
   "metadata": {},
   "outputs": [],
   "source": [
    "size_slider = create_size_slider()\n",
    "size_apply_button = create_size_slider_button(size_slider)\n",
    "inverse_button, copy_button = create_inverse_button()"
   ]
  },
  {
   "cell_type": "code",
   "execution_count": null,
   "metadata": {
    "scrolled": false
   },
   "outputs": [],
   "source": [
    "plot_ax = create_plot(df_2D)\n",
    "display(widgets.HBox([size_slider,size_apply_button]))\n",
    "display(widgets.HBox([inverse_button, copy_button,create_reset_buttons()]))"
   ]
  },
  {
   "cell_type": "code",
   "execution_count": null,
   "metadata": {},
   "outputs": [],
   "source": [
    "point_attribute = create_checkbox()"
   ]
  },
  {
   "cell_type": "code",
   "execution_count": 16,
   "metadata": {},
   "outputs": [
    {
     "ename": "NameError",
     "evalue": "name 'df_2D' is not defined",
     "output_type": "error",
     "traceback": [
      "\u001b[1;31m---------------------------------------------------------------------------\u001b[0m",
      "\u001b[1;31mNameError\u001b[0m                                 Traceback (most recent call last)",
      "\u001b[1;32m~\\AppData\\Local\\Temp\\ipykernel_23020\\3419673806.py\u001b[0m in \u001b[0;36m<module>\u001b[1;34m\u001b[0m\n\u001b[1;32m----> 1\u001b[1;33m \u001b[0msilhouette_score\u001b[0m\u001b[1;33m(\u001b[0m\u001b[0mdf_2D\u001b[0m\u001b[1;33m[\u001b[0m\u001b[1;33m[\u001b[0m\u001b[1;34m'x'\u001b[0m\u001b[1;33m,\u001b[0m\u001b[1;34m'y'\u001b[0m\u001b[1;33m]\u001b[0m\u001b[1;33m]\u001b[0m\u001b[1;33m,\u001b[0m \u001b[0mdf_2D\u001b[0m\u001b[1;33m[\u001b[0m\u001b[1;34m'label'\u001b[0m\u001b[1;33m]\u001b[0m\u001b[1;33m)\u001b[0m\u001b[1;33m\u001b[0m\u001b[1;33m\u001b[0m\u001b[0m\n\u001b[0m",
      "\u001b[1;31mNameError\u001b[0m: name 'df_2D' is not defined"
     ]
    }
   ],
   "source": [
    "silhouette_score(df_2D[['x','y']], df_2D['label'])"
   ]
  },
  {
   "cell_type": "markdown",
   "metadata": {},
   "source": [
    "##  Image Activation Map\n",
    "Click the **Visual Explainations** button below to display the weighted mask captured by the underlying model"
   ]
  },
  {
   "cell_type": "code",
   "execution_count": null,
   "metadata": {
    "scrolled": false
   },
   "outputs": [],
   "source": [
    "attention = create_attention_map()"
   ]
  },
  {
   "cell_type": "code",
   "execution_count": null,
   "metadata": {},
   "outputs": [],
   "source": [
    "attention = create_visual_explainations()"
   ]
  },
  {
   "cell_type": "code",
   "execution_count": null,
   "metadata": {},
   "outputs": [],
   "source": [
    "attention = create_visual_explainations()"
   ]
  },
  {
   "cell_type": "code",
   "execution_count": null,
   "metadata": {
    "scrolled": false
   },
   "outputs": [],
   "source": [
    "inverse = create_inverse_button(fig_show=False)"
   ]
  },
  {
   "cell_type": "markdown",
   "metadata": {},
   "source": [
    "## Simulation Engine"
   ]
  },
  {
   "cell_type": "markdown",
   "metadata": {},
   "source": [
    "* The labels for images should be accessable from the image file name, which is set to the index of the dataframe, the format of the image index should be:\n",
    "\n",
    "- category/image_file_name\n",
    "- e.g. horse/9a4e3fd565"
   ]
  },
  {
   "cell_type": "code",
   "execution_count": null,
   "metadata": {},
   "outputs": [],
   "source": [
    "def Sampler(data_2D,n_sample):\n",
    "    \"\"\"Given 2D dataframe, return a datafram with n samples for each class\"\"\"\n",
    "    print('Initial s score is: ',silhouette_score(data_2D[['x','y']], data_2D['label']))    \n",
    "    df_sample = data_2D.copy()\n",
    "    df_sample['label'] = df_sample.index.str.split('/').str[:1].str.join('')\n",
    "    selected_points = df_sample.groupby('label').apply(lambda group: group.sample(n_sample))\n",
    "    selected_points.index = selected_points.index.droplevel(0)\n",
    "    return selected_points\n",
    "\n",
    "\n",
    "def InteractionSimulator(sample_data_2D):\n",
    "    data_HD = normalized_df.loc[sample_data_2D.index]\n",
    "    data_2D = pd.get_dummies(sample_data_2D['label'])\n",
    "#    display(data_2D)\n",
    "#    display(pd.DataFrame(distance_matrix_2D(data_2D)*100,index=data_2D.index,columns=data_2D.index,dtype=float))\n",
    "    wts = inverse_DR(data_HD, data_2D)\n",
    "    return wts\n",
    "\n",
    "\n",
    "def EvaluationSimulator(n_control_points, output_file_mark=\"animal\"):\n",
    "    s_score_list = []\n",
    "    wts_list = []\n",
    "    for i in tqdm(range(1,n_control_points+1)):\n",
    "        sample_df = Sampler(df_2D,n_sample=i)\n",
    "        wts = InteractionSimulator(sample_df)\n",
    "        wts.to_csv('./WeightsDirectory/'+str(output_file_mark) +'_iteration_'+str(i)+'.csv', header=True)\n",
    "        updated_df_2D = dimension_reduction(normalized_df, weights)\n",
    "        updated_df_2D['label'] = updated_df_2D.index.str.split('/').str[:1].str.join('')\n",
    "        s_score = silhouette_score(updated_df_2D[['x','y']],updated_df_2D['label'])\n",
    "        print(\"Updated s score after dragging: \", s_score)\n",
    "        s_score_list.append(s_score)\n",
    "        wts_list.append(wts)\n",
    "    return s_score_list, wts_list\n",
    "\n",
    "def create_load_weights_from_file(n_control_points, output_file_mark='animal'):\n",
    "    load_button = widgets.Button(description=\"Load weights from file\")\n",
    "    def apply_button_clicked(change):\n",
    "        # Use the slider values to re compute the DR and redraw the plot\n",
    "        global weights, df_2D, paths\n",
    "        weights = pd.read_csv('./WeightsDirectory/'+str(output_file_mark) +'_iteration_'+str(n_control_points)+'.csv')['Weight']\n",
    "        weights.index = normalized_df.columns\n",
    "        df_2D = dimension_reduction(normalized_df, weights)   \n",
    "        draw_plot(plot_ax, df_2D, paths)\n",
    "    load_button.on_click(apply_button_clicked)\n",
    "    display(load_button)"
   ]
  },
  {
   "cell_type": "code",
   "execution_count": null,
   "metadata": {},
   "outputs": [],
   "source": [
    "# pod_s_score_list, pod_wts_lists = EvaluationSimulator(n_control_points=50, output_file_mark=\"pod\")"
   ]
  },
  {
   "cell_type": "code",
   "execution_count": null,
   "metadata": {},
   "outputs": [],
   "source": [
    "# create_load_weights_from_file(n_control_points=5, output_file_mark='pod')"
   ]
  },
  {
   "cell_type": "code",
   "execution_count": null,
   "metadata": {
    "scrolled": false
   },
   "outputs": [],
   "source": [
    "# print(\"select 4 images from each cat:\")\n",
    "# sample_df = Sampler(df_2D,n_sample=7)\n",
    "# display(sample_df.head(10))\n",
    "# InteractionSimulator(sample_df)"
   ]
  },
  {
   "cell_type": "code",
   "execution_count": null,
   "metadata": {},
   "outputs": [],
   "source": [
    "## The following code is for one iteration, then calculate the s_score for the updated projection\n",
    "# from sklearn.metrics import silhouette_score\n",
    "\n",
    "# test_df = dimension_reduction(normalized_df, weights)\n",
    "# test_df['label'] = test_df.index.str.split('/').str[:1].str.join('')\n",
    "# display(test_df)\n",
    "# print(\"The s_score is:\")\n",
    "# silhouette_score(test_df[['x','y']], test_df['label'])"
   ]
  },
  {
   "cell_type": "code",
   "execution_count": null,
   "metadata": {},
   "outputs": [],
   "source": [
    "# from tqdm import tqdm\n",
    "# s_score_list = []\n",
    "# for i in tqdm(range(1,31)):\n",
    "#     sample_df = Sampler(df_2D,n_sample=i)\n",
    "#     PretendingUserDragging(sample_df,'iteration_'+str(i)+'.csv')\n",
    "#     updated_df_2D = dimension_reduction(normalized_df, weights)\n",
    "#     updated_df_2D['label'] = updated_df_2D.index.str.split('/').str[:1].str.join('')\n",
    "#     s_score = silhouette_score(updated_df_2D[['x','y']],updated_df_2D['label'])\n",
    "#     s_score_list.append(s_score)\n",
    "# s_score_list"
   ]
  },
  {
   "cell_type": "code",
   "execution_count": null,
   "metadata": {},
   "outputs": [],
   "source": [
    "# plt.figure()\n",
    "# plt.plot(s_score_list,marker='o',c='orange')\n",
    "# plt.xlabel('Number of Control points')\n",
    "# plt.ylabel('Silhouette Score')"
   ]
  },
  {
   "cell_type": "code",
   "execution_count": null,
   "metadata": {},
   "outputs": [],
   "source": [
    "# plt.figure()\n",
    "# plt.plot(np.array(range(1,31)),s_score_list,marker='o',c='orange')\n",
    "# plt.xlabel('Number of Control points per category')\n",
    "# plt.ylabel('Silhouette Score')"
   ]
  },
  {
   "cell_type": "code",
   "execution_count": null,
   "metadata": {},
   "outputs": [],
   "source": [
    "! pwd"
   ]
  },
  {
   "cell_type": "code",
   "execution_count": null,
   "metadata": {},
   "outputs": [],
   "source": []
  }
 ],
 "metadata": {
  "kernelspec": {
   "display_name": "Python 3 (ipykernel)",
   "language": "python",
   "name": "python3"
  },
  "language_info": {
   "codemirror_mode": {
    "name": "ipython",
    "version": 3
   },
   "file_extension": ".py",
   "mimetype": "text/x-python",
   "name": "python",
   "nbconvert_exporter": "python",
   "pygments_lexer": "ipython3",
   "version": "3.7.6"
  }
 },
 "nbformat": 4,
 "nbformat_minor": 1
}
